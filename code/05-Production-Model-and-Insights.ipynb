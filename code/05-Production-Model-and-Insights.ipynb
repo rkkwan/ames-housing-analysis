{
 "cells": [
  {
   "cell_type": "markdown",
   "metadata": {},
   "source": [
    "# Project 2 - Ames Housing Data and Kaggle Challenge\n",
    "Author: _Ritchie Kwan_\n",
    "\n",
    "---\n",
    "\n"
   ]
  },
  {
   "cell_type": "markdown",
   "metadata": {},
   "source": [
    "## Table of Contents\n",
    "1. [EDA and Data Cleaning](01-EDA-and-Cleaning.ipynb)\n",
    "2. [Preprocessing and Feature Engineering](02-Preprocessing-and-Feature-Engineering.ipynb)\n",
    "3. [Modeling Benchmarks](03-Model-Benchmarks.ipynb)  \n",
    "4. [Model Tuning](04-Model-Tuning.ipynb)\n",
    "5. [Production Model and Insights](#Production-Model-and-Insights) \n",
    " "
   ]
  },
  {
   "cell_type": "markdown",
   "metadata": {},
   "source": [
    "### Import Libraries"
   ]
  },
  {
   "cell_type": "code",
   "execution_count": 65,
   "metadata": {},
   "outputs": [],
   "source": [
    "import pandas as pd\n",
    "\n",
    "from sklearn.metrics import r2_score\n",
    "from sklearn.model_selection import KFold, cross_val_score\n",
    "\n",
    "from sklearn.linear_model import RidgeCV\n",
    "from sklearn.linear_model import LassoCV\n"
   ]
  },
  {
   "cell_type": "markdown",
   "metadata": {},
   "source": [
    "### Load Data"
   ]
  },
  {
   "cell_type": "code",
   "execution_count": 55,
   "metadata": {},
   "outputs": [],
   "source": [
    "df = pd.read_csv('../datasets/train_processed.csv')\n",
    "df_train = pd.read_csv('../datasets/train_split_processed.csv')\n",
    "df_test = pd.read_csv('../datasets/test_split_processed.csv')\n",
    "df_kaggle = pd.read_csv('../datasets/kaggle_processed.csv')"
   ]
  },
  {
   "cell_type": "markdown",
   "metadata": {},
   "source": [
    "### Define Predictors and Target"
   ]
  },
  {
   "cell_type": "code",
   "execution_count": 56,
   "metadata": {},
   "outputs": [],
   "source": [
    "X = df[[col for col in df.columns if col != 'saleprice']]\n",
    "y = df['saleprice']\n",
    "\n",
    "X_kaggle = df_kaggle[[col for col in df_test.columns if col != 'saleprice']]\n"
   ]
  },
  {
   "cell_type": "markdown",
   "metadata": {},
   "source": [
    "## Production Model and Insights\n",
    "\n",
    "`Lasso` will be used as the production model. After fitting the entire training set, `Lasso` has the highest CV score out of all of the regression models. "
   ]
  },
  {
   "cell_type": "code",
   "execution_count": 60,
   "metadata": {},
   "outputs": [],
   "source": [
    "def compare_r2(X, y, model_type = 'ridge', r_alphas = np.logspace(0, 5, 200)):\n",
    "    model = None\n",
    "    \n",
    "    # case insensitive\n",
    "    model_type = model_type.lower()\n",
    "    \n",
    "    r_alphas = np.logspace(0, 5, 200)\n",
    "\n",
    "    if model_type == 'ridge' :\n",
    "        model = RidgeCV(alphas = r_alphas, scoring = 'r2')\n",
    "    elif model_type == 'lasso' : \n",
    "        model = LassoCV()\n",
    "    \n",
    "    model = model.fit(X, y)\n",
    "\n",
    "    # make predictions\n",
    "    y_pred = model.predict(X)\n",
    "\n",
    "    # R2 scores\n",
    "    score = r2_score(y, y_pred)\n",
    "\n",
    "    # K-Folds Cross Validation\n",
    "    kf = KFold(n_splits = 10, \n",
    "               shuffle = True, \n",
    "               random_state = 42)\n",
    "\n",
    "    # cross-validation scores\n",
    "    cv_score = cross_val_score(model, X, y, cv = kf).mean()\n",
    "\n",
    "    # build output\n",
    "    output = {'Score' : score,\n",
    "              'CV Score' : cv_score,\n",
    "              'Model' : model,\n",
    "              'alpha' : model.alpha_,\n",
    "              'coef' : model.coef_\n",
    "             }\n",
    "    return pd.DataFrame({'Score' : output})"
   ]
  },
  {
   "cell_type": "code",
   "execution_count": 61,
   "metadata": {},
   "outputs": [],
   "source": [
    "ridge_comp = compare_r2(X, y, 'ridge')"
   ]
  },
  {
   "cell_type": "code",
   "execution_count": 62,
   "metadata": {},
   "outputs": [
    {
     "data": {
      "text/html": [
       "<div>\n",
       "<style scoped>\n",
       "    .dataframe tbody tr th:only-of-type {\n",
       "        vertical-align: middle;\n",
       "    }\n",
       "\n",
       "    .dataframe tbody tr th {\n",
       "        vertical-align: top;\n",
       "    }\n",
       "\n",
       "    .dataframe thead th {\n",
       "        text-align: right;\n",
       "    }\n",
       "</style>\n",
       "<table border=\"1\" class=\"dataframe\">\n",
       "  <thead>\n",
       "    <tr style=\"text-align: right;\">\n",
       "      <th></th>\n",
       "      <th>Score</th>\n",
       "    </tr>\n",
       "  </thead>\n",
       "  <tbody>\n",
       "    <tr>\n",
       "      <th>CV Score</th>\n",
       "      <td>0.91107</td>\n",
       "    </tr>\n",
       "    <tr>\n",
       "      <th>Model</th>\n",
       "      <td>RidgeCV(alphas=array([1.00000e+00, 1.05956e+00...</td>\n",
       "    </tr>\n",
       "    <tr>\n",
       "      <th>Score</th>\n",
       "      <td>0.944811</td>\n",
       "    </tr>\n",
       "    <tr>\n",
       "      <th>alpha</th>\n",
       "      <td>182.518</td>\n",
       "    </tr>\n",
       "    <tr>\n",
       "      <th>coef</th>\n",
       "      <td>[7356.801127139642, 11928.149139617235, 3628.0...</td>\n",
       "    </tr>\n",
       "  </tbody>\n",
       "</table>\n",
       "</div>"
      ],
      "text/plain": [
       "                                                      Score\n",
       "CV Score                                            0.91107\n",
       "Model     RidgeCV(alphas=array([1.00000e+00, 1.05956e+00...\n",
       "Score                                              0.944811\n",
       "alpha                                               182.518\n",
       "coef      [7356.801127139642, 11928.149139617235, 3628.0..."
      ]
     },
     "execution_count": 62,
     "metadata": {},
     "output_type": "execute_result"
    }
   ],
   "source": [
    "ridge_comp"
   ]
  },
  {
   "cell_type": "code",
   "execution_count": 63,
   "metadata": {
    "scrolled": true
   },
   "outputs": [],
   "source": [
    "lasso_comp = compare_r2(X, y, 'lasso')"
   ]
  },
  {
   "cell_type": "code",
   "execution_count": 64,
   "metadata": {},
   "outputs": [
    {
     "data": {
      "text/html": [
       "<div>\n",
       "<style scoped>\n",
       "    .dataframe tbody tr th:only-of-type {\n",
       "        vertical-align: middle;\n",
       "    }\n",
       "\n",
       "    .dataframe tbody tr th {\n",
       "        vertical-align: top;\n",
       "    }\n",
       "\n",
       "    .dataframe thead th {\n",
       "        text-align: right;\n",
       "    }\n",
       "</style>\n",
       "<table border=\"1\" class=\"dataframe\">\n",
       "  <thead>\n",
       "    <tr style=\"text-align: right;\">\n",
       "      <th></th>\n",
       "      <th>Score</th>\n",
       "    </tr>\n",
       "  </thead>\n",
       "  <tbody>\n",
       "    <tr>\n",
       "      <th>CV Score</th>\n",
       "      <td>0.91548</td>\n",
       "    </tr>\n",
       "    <tr>\n",
       "      <th>Model</th>\n",
       "      <td>LassoCV(alphas=None, copy_X=True, cv=None, eps...</td>\n",
       "    </tr>\n",
       "    <tr>\n",
       "      <th>Score</th>\n",
       "      <td>0.934227</td>\n",
       "    </tr>\n",
       "    <tr>\n",
       "      <th>alpha</th>\n",
       "      <td>689.551</td>\n",
       "    </tr>\n",
       "    <tr>\n",
       "      <th>coef</th>\n",
       "      <td>[7529.538871504198, 15937.031238247524, 2541.2...</td>\n",
       "    </tr>\n",
       "  </tbody>\n",
       "</table>\n",
       "</div>"
      ],
      "text/plain": [
       "                                                      Score\n",
       "CV Score                                            0.91548\n",
       "Model     LassoCV(alphas=None, copy_X=True, cv=None, eps...\n",
       "Score                                              0.934227\n",
       "alpha                                               689.551\n",
       "coef      [7529.538871504198, 15937.031238247524, 2541.2..."
      ]
     },
     "execution_count": 64,
     "metadata": {},
     "output_type": "execute_result"
    }
   ],
   "source": [
    "lasso_comp"
   ]
  },
  {
   "cell_type": "code",
   "execution_count": 48,
   "metadata": {},
   "outputs": [],
   "source": [
    "final_model = lasso_comp.loc['Model', 'Score']"
   ]
  },
  {
   "cell_type": "markdown",
   "metadata": {},
   "source": [
    "### Top Predictive Features"
   ]
  },
  {
   "cell_type": "code",
   "execution_count": 66,
   "metadata": {},
   "outputs": [
    {
     "data": {
      "text/html": [
       "<div>\n",
       "<style scoped>\n",
       "    .dataframe tbody tr th:only-of-type {\n",
       "        vertical-align: middle;\n",
       "    }\n",
       "\n",
       "    .dataframe tbody tr th {\n",
       "        vertical-align: top;\n",
       "    }\n",
       "\n",
       "    .dataframe thead th {\n",
       "        text-align: right;\n",
       "    }\n",
       "</style>\n",
       "<table border=\"1\" class=\"dataframe\">\n",
       "  <thead>\n",
       "    <tr style=\"text-align: right;\">\n",
       "      <th></th>\n",
       "      <th>feature</th>\n",
       "      <th>coef</th>\n",
       "    </tr>\n",
       "  </thead>\n",
       "  <tbody>\n",
       "    <tr>\n",
       "      <th>3</th>\n",
       "      <td>gr_liv_area</td>\n",
       "      <td>20501.632500</td>\n",
       "    </tr>\n",
       "    <tr>\n",
       "      <th>1</th>\n",
       "      <td>overall_qual</td>\n",
       "      <td>15937.031238</td>\n",
       "    </tr>\n",
       "    <tr>\n",
       "      <th>0</th>\n",
       "      <td>neighborhood</td>\n",
       "      <td>7529.538872</td>\n",
       "    </tr>\n",
       "    <tr>\n",
       "      <th>11</th>\n",
       "      <td>year_remod/add</td>\n",
       "      <td>7370.995147</td>\n",
       "    </tr>\n",
       "    <tr>\n",
       "      <th>17</th>\n",
       "      <td>bsmtfin_sf_1</td>\n",
       "      <td>7084.476286</td>\n",
       "    </tr>\n",
       "    <tr>\n",
       "      <th>6</th>\n",
       "      <td>total_bsmt_sf</td>\n",
       "      <td>6878.351216</td>\n",
       "    </tr>\n",
       "    <tr>\n",
       "      <th>21</th>\n",
       "      <td>lot_area</td>\n",
       "      <td>6330.059709</td>\n",
       "    </tr>\n",
       "    <tr>\n",
       "      <th>10</th>\n",
       "      <td>year_built</td>\n",
       "      <td>4749.090813</td>\n",
       "    </tr>\n",
       "    <tr>\n",
       "      <th>16</th>\n",
       "      <td>fireplaces</td>\n",
       "      <td>4149.396609</td>\n",
       "    </tr>\n",
       "    <tr>\n",
       "      <th>5</th>\n",
       "      <td>kitchen_qual</td>\n",
       "      <td>3613.744841</td>\n",
       "    </tr>\n",
       "  </tbody>\n",
       "</table>\n",
       "</div>"
      ],
      "text/plain": [
       "           feature          coef\n",
       "3      gr_liv_area  20501.632500\n",
       "1     overall_qual  15937.031238\n",
       "0     neighborhood   7529.538872\n",
       "11  year_remod/add   7370.995147\n",
       "17    bsmtfin_sf_1   7084.476286\n",
       "6    total_bsmt_sf   6878.351216\n",
       "21        lot_area   6330.059709\n",
       "10      year_built   4749.090813\n",
       "16      fireplaces   4149.396609\n",
       "5     kitchen_qual   3613.744841"
      ]
     },
     "execution_count": 66,
     "metadata": {},
     "output_type": "execute_result"
    }
   ],
   "source": [
    "feature_coefs = pd.DataFrame({'feature' : X.columns, 'coef' : final_model.coef_})\n",
    "feature_coefs = feature_coefs.sort_values(by = 'coef', ascending = False)\n",
    "feature_coefs.head(10)"
   ]
  },
  {
   "cell_type": "code",
   "execution_count": 67,
   "metadata": {},
   "outputs": [
    {
     "data": {
      "text/html": [
       "<div>\n",
       "<style scoped>\n",
       "    .dataframe tbody tr th:only-of-type {\n",
       "        vertical-align: middle;\n",
       "    }\n",
       "\n",
       "    .dataframe tbody tr th {\n",
       "        vertical-align: top;\n",
       "    }\n",
       "\n",
       "    .dataframe thead th {\n",
       "        text-align: right;\n",
       "    }\n",
       "</style>\n",
       "<table border=\"1\" class=\"dataframe\">\n",
       "  <thead>\n",
       "    <tr style=\"text-align: right;\">\n",
       "      <th></th>\n",
       "      <th>feature</th>\n",
       "      <th>coef</th>\n",
       "    </tr>\n",
       "  </thead>\n",
       "  <tbody>\n",
       "    <tr>\n",
       "      <th>284</th>\n",
       "      <td>garage_yr_blt lot_frontage</td>\n",
       "      <td>-257.622209</td>\n",
       "    </tr>\n",
       "    <tr>\n",
       "      <th>219</th>\n",
       "      <td>year_built^2</td>\n",
       "      <td>-382.769670</td>\n",
       "    </tr>\n",
       "    <tr>\n",
       "      <th>104</th>\n",
       "      <td>gr_liv_area totrms_abvgrd</td>\n",
       "      <td>-444.853821</td>\n",
       "    </tr>\n",
       "    <tr>\n",
       "      <th>270</th>\n",
       "      <td>totrms_abvgrd garage_yr_blt</td>\n",
       "      <td>-451.757963</td>\n",
       "    </tr>\n",
       "    <tr>\n",
       "      <th>314</th>\n",
       "      <td>lot_frontage^2</td>\n",
       "      <td>-570.528379</td>\n",
       "    </tr>\n",
       "    <tr>\n",
       "      <th>225</th>\n",
       "      <td>year_built fireplaces</td>\n",
       "      <td>-863.972753</td>\n",
       "    </tr>\n",
       "    <tr>\n",
       "      <th>298</th>\n",
       "      <td>bsmtfin_sf_1 wood_deck_sf</td>\n",
       "      <td>-932.152513</td>\n",
       "    </tr>\n",
       "    <tr>\n",
       "      <th>291</th>\n",
       "      <td>fireplaces wood_deck_sf</td>\n",
       "      <td>-951.634775</td>\n",
       "    </tr>\n",
       "    <tr>\n",
       "      <th>323</th>\n",
       "      <td>half_bath^2</td>\n",
       "      <td>-1083.436652</td>\n",
       "    </tr>\n",
       "    <tr>\n",
       "      <th>299</th>\n",
       "      <td>bsmtfin_sf_1 lot_frontage</td>\n",
       "      <td>-1088.085246</td>\n",
       "    </tr>\n",
       "  </tbody>\n",
       "</table>\n",
       "</div>"
      ],
      "text/plain": [
       "                         feature         coef\n",
       "284   garage_yr_blt lot_frontage  -257.622209\n",
       "219                 year_built^2  -382.769670\n",
       "104    gr_liv_area totrms_abvgrd  -444.853821\n",
       "270  totrms_abvgrd garage_yr_blt  -451.757963\n",
       "314               lot_frontage^2  -570.528379\n",
       "225        year_built fireplaces  -863.972753\n",
       "298    bsmtfin_sf_1 wood_deck_sf  -932.152513\n",
       "291      fireplaces wood_deck_sf  -951.634775\n",
       "323                  half_bath^2 -1083.436652\n",
       "299    bsmtfin_sf_1 lot_frontage -1088.085246"
      ]
     },
     "execution_count": 67,
     "metadata": {},
     "output_type": "execute_result"
    }
   ],
   "source": [
    "feature_coefs.tail(10)"
   ]
  },
  {
   "cell_type": "markdown",
   "metadata": {},
   "source": [
    "### Predictions"
   ]
  },
  {
   "cell_type": "code",
   "execution_count": 51,
   "metadata": {},
   "outputs": [],
   "source": [
    "y_kaggle_final_pred = final_model.predict(X_kaggle)"
   ]
  },
  {
   "cell_type": "markdown",
   "metadata": {},
   "source": [
    "### Write predictions to CSV file"
   ]
  },
  {
   "cell_type": "code",
   "execution_count": 52,
   "metadata": {},
   "outputs": [],
   "source": [
    "final_predictions = pd.DataFrame([], columns = ['Id', 'SalePrice'])\n",
    "\n",
    "final_predictions['Id'] = df_kaggle['id']\n",
    "final_predictions['SalePrice'] = y_kaggle_final_pred\n"
   ]
  },
  {
   "cell_type": "code",
   "execution_count": 53,
   "metadata": {},
   "outputs": [],
   "source": [
    "final_predictions.to_csv('../datasets/predictions_final.csv', index = False)"
   ]
  }
 ],
 "metadata": {
  "kernelspec": {
   "display_name": "Python [default]",
   "language": "python",
   "name": "python3"
  },
  "language_info": {
   "codemirror_mode": {
    "name": "ipython",
    "version": 3
   },
   "file_extension": ".py",
   "mimetype": "text/x-python",
   "name": "python",
   "nbconvert_exporter": "python",
   "pygments_lexer": "ipython3",
   "version": "3.6.5"
  }
 },
 "nbformat": 4,
 "nbformat_minor": 2
}
