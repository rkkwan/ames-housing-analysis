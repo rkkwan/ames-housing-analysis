{
 "cells": [
  {
   "cell_type": "markdown",
   "metadata": {},
   "source": [
    "# Project 2 - Ames Housing Data and Kaggle Challenge\n",
    "Author: _Ritchie Kwan_\n",
    "\n",
    "---\n",
    "\n"
   ]
  },
  {
   "cell_type": "markdown",
   "metadata": {},
   "source": [
    "## Table of Contents\n",
    "1. [EDA and Data Cleaning](01-EDA-and-Cleaning.ipynb)\n",
    "2. [Preprocessing and Feature Engineering](02-Preprocessing-and-Feature-Engineering.ipynb)\n",
    "3. [Modeling Benchmarks](03-Model-Benchmarks.ipynb)  \n",
    "4. [Model Tuning](#Model-Tuning)\n",
    "5. [Production Model and Insights](05-Production-Model-and-Insights.ipynb)  \n",
    " "
   ]
  },
  {
   "cell_type": "markdown",
   "metadata": {},
   "source": [
    "### Import Libraries"
   ]
  },
  {
   "cell_type": "code",
   "execution_count": 86,
   "metadata": {},
   "outputs": [],
   "source": [
    "import pandas as pd\n",
    "import numpy as np\n",
    "\n",
    "from sklearn.linear_model import LinearRegression\n",
    "from sklearn.metrics import r2_score\n",
    "from sklearn.model_selection import KFold, cross_val_score\n",
    "from sklearn.preprocessing import StandardScaler, PolynomialFeatures\n",
    "\n",
    "from sklearn.linear_model import RidgeCV\n",
    "from sklearn.linear_model import LassoCV\n",
    "from sklearn.linear_model import ElasticNetCV\n",
    "\n",
    "from sklearn.pipeline import Pipeline\n",
    "from sklearn.grid_search import GridSearchCV\n",
    "from sklearn.feature_selection import SelectKBest, VarianceThreshold, f_regression"
   ]
  },
  {
   "cell_type": "markdown",
   "metadata": {},
   "source": [
    "### Load Data"
   ]
  },
  {
   "cell_type": "code",
   "execution_count": 3,
   "metadata": {},
   "outputs": [],
   "source": [
    "df = pd.read_csv('../datasets/train_processed.csv')\n",
    "df_train = pd.read_csv('../datasets/train_split_processed.csv')\n",
    "df_test = pd.read_csv('../datasets/test_split_processed.csv')\n",
    "df_kaggle = pd.read_csv('../datasets/kaggle_processed.csv')"
   ]
  },
  {
   "cell_type": "markdown",
   "metadata": {},
   "source": [
    "### Define Predictors and Target"
   ]
  },
  {
   "cell_type": "code",
   "execution_count": 4,
   "metadata": {},
   "outputs": [],
   "source": [
    "X = df[[col for col in df.columns if col != 'saleprice']]\n",
    "y = df['saleprice']\n",
    "\n",
    "X_train = df_train[[col for col in df_train.columns if col != 'saleprice']]\n",
    "y_train = df_train['saleprice']\n",
    "\n",
    "X_test = df_test[[col for col in df_test.columns if col != 'saleprice']]\n",
    "y_test = df_test['saleprice']\n",
    "\n",
    "X_kaggle = df_kaggle[[col for col in df_test.columns if col != 'saleprice']]\n",
    "\n"
   ]
  },
  {
   "cell_type": "markdown",
   "metadata": {},
   "source": [
    "## Model Tuning\n",
    "\n",
    "To improve our model, we will use the regularization properties of `Lasso`, `Ridge`, and `ElasticNet`."
   ]
  },
  {
   "cell_type": "markdown",
   "metadata": {},
   "source": [
    "### Define a function to compare cross-validation scores of different models"
   ]
  },
  {
   "cell_type": "code",
   "execution_count": 5,
   "metadata": {},
   "outputs": [],
   "source": [
    "def compare_r2(X_train, X_test, y_train, y_test, model_type = 'linear'):\n",
    "    '''\n",
    "    Arguments:\n",
    "    X : Dataframe of features\n",
    "    y : True y\n",
    "    \n",
    "    Calculates R2 scores of SLR, cross validation train and test split\n",
    "    \n",
    "    Return:\n",
    "    r2 : R2 score of SLR\n",
    "    train_cv_r2 : R2 score of cross validation training set\n",
    "    test_cv_r2 : R2 score of cross validation test set\n",
    "    '''\n",
    "    \n",
    "    model = None\n",
    "    \n",
    "    # case insensitive\n",
    "    model_type = model_type.lower()\n",
    "    \n",
    "    # instantiate model\n",
    "    if model_type == 'linear' : \n",
    "        model = LinearRegression()\n",
    "    elif model_type == 'ridge' :\n",
    "        r_alphas = np.logspace(0, 5, 200)\n",
    "        model = RidgeCV(alphas = r_alphas, scoring = 'r2')\n",
    "    elif model_type == 'lasso' : \n",
    "        model = LassoCV()\n",
    "    elif model_type == 'elasticnet' : \n",
    "        r_alphas = np.logspace(0, 5, 200)\n",
    "        l1_ratios = [.1, .5, .9, 1]\n",
    "        model = ElasticNetCV(alphas = r_alphas, l1_ratio = l1_ratios)\n",
    "    else:\n",
    "        print('Invalid model_type. Try linear, ridge, lasso, or elasticnet')\n",
    "        return None\n",
    "        \n",
    "    # fit model\n",
    "    model = model.fit(X_train, y_train)\n",
    "    \n",
    "    # make predictions\n",
    "    y_train_pred = model.predict(X_train)\n",
    "    y_test_pred = model.predict(X_test)\n",
    "    \n",
    "    # R2 scores\n",
    "    train_score = r2_score(y_train, y_train_pred)\n",
    "    test_score = r2_score(y_test, y_test_pred)\n",
    "    \n",
    "    # K-Folds Cross Validation\n",
    "    kf = KFold(n_splits = 10, \n",
    "               shuffle = True, \n",
    "               random_state = 42)\n",
    "     \n",
    "    # cross-validation scores\n",
    "    train_cv_score = cross_val_score(model, X_train, y_train, cv = kf).mean()\n",
    "    test_cv_score = cross_val_score(model, X_test, y_test, cv = kf).mean()\n",
    "    \n",
    "    # build output\n",
    "    output = {'Train' : train_score,\n",
    "              'Test' : test_score,\n",
    "              'Train CV' : train_cv_score,\n",
    "              'Test CV' : test_cv_score,\n",
    "              'Model' : model\n",
    "             }\n",
    "    \n",
    "    # additional output depending on the model_type\n",
    "    if model_type == 'ridge' :\n",
    "        output['alpha'] = model.alpha_\n",
    "        output['coef'] = model.coef_\n",
    "    elif model_type == 'lasso' : \n",
    "        output['alpha'] = model.alpha_\n",
    "        output['coef'] = model.coef_\n",
    "    elif model_type == 'elasticnet' :\n",
    "        output['alpha'] = model.alpha_\n",
    "        output['coef'] = model.coef_\n",
    "        output['l1_ratio'] = model.l1_ratio_\n",
    "    \n",
    "    # return output as a DataFrame\n",
    "    return pd.DataFrame({'Score' : output})"
   ]
  },
  {
   "cell_type": "markdown",
   "metadata": {},
   "source": [
    "### Linear"
   ]
  },
  {
   "cell_type": "code",
   "execution_count": 6,
   "metadata": {},
   "outputs": [],
   "source": [
    "lm_comp = compare_r2(X_train, X_test, y_train, y_test, 'Linear')"
   ]
  },
  {
   "cell_type": "code",
   "execution_count": 7,
   "metadata": {
    "scrolled": true
   },
   "outputs": [
    {
     "data": {
      "text/html": [
       "<div>\n",
       "<style scoped>\n",
       "    .dataframe tbody tr th:only-of-type {\n",
       "        vertical-align: middle;\n",
       "    }\n",
       "\n",
       "    .dataframe tbody tr th {\n",
       "        vertical-align: top;\n",
       "    }\n",
       "\n",
       "    .dataframe thead th {\n",
       "        text-align: right;\n",
       "    }\n",
       "</style>\n",
       "<table border=\"1\" class=\"dataframe\">\n",
       "  <thead>\n",
       "    <tr style=\"text-align: right;\">\n",
       "      <th></th>\n",
       "      <th>Score</th>\n",
       "    </tr>\n",
       "  </thead>\n",
       "  <tbody>\n",
       "    <tr>\n",
       "      <th>Model</th>\n",
       "      <td>LinearRegression(copy_X=True, fit_intercept=Tr...</td>\n",
       "    </tr>\n",
       "    <tr>\n",
       "      <th>Test</th>\n",
       "      <td>0.858923</td>\n",
       "    </tr>\n",
       "    <tr>\n",
       "      <th>Test CV</th>\n",
       "      <td>0.716141</td>\n",
       "    </tr>\n",
       "    <tr>\n",
       "      <th>Train</th>\n",
       "      <td>0.955155</td>\n",
       "    </tr>\n",
       "    <tr>\n",
       "      <th>Train CV</th>\n",
       "      <td>0.878245</td>\n",
       "    </tr>\n",
       "  </tbody>\n",
       "</table>\n",
       "</div>"
      ],
      "text/plain": [
       "                                                      Score\n",
       "Model     LinearRegression(copy_X=True, fit_intercept=Tr...\n",
       "Test                                               0.858923\n",
       "Test CV                                            0.716141\n",
       "Train                                              0.955155\n",
       "Train CV                                           0.878245"
      ]
     },
     "execution_count": 7,
     "metadata": {},
     "output_type": "execute_result"
    }
   ],
   "source": [
    "lm = lm_comp.loc['Model', 'Score']\n",
    "lm_comp"
   ]
  },
  {
   "cell_type": "code",
   "execution_count": 8,
   "metadata": {},
   "outputs": [
    {
     "data": {
      "text/html": [
       "<div>\n",
       "<style scoped>\n",
       "    .dataframe tbody tr th:only-of-type {\n",
       "        vertical-align: middle;\n",
       "    }\n",
       "\n",
       "    .dataframe tbody tr th {\n",
       "        vertical-align: top;\n",
       "    }\n",
       "\n",
       "    .dataframe thead th {\n",
       "        text-align: right;\n",
       "    }\n",
       "</style>\n",
       "<table border=\"1\" class=\"dataframe\">\n",
       "  <thead>\n",
       "    <tr style=\"text-align: right;\">\n",
       "      <th></th>\n",
       "      <th>feature</th>\n",
       "      <th>coef</th>\n",
       "    </tr>\n",
       "  </thead>\n",
       "  <tbody>\n",
       "    <tr>\n",
       "      <th>3</th>\n",
       "      <td>gr_liv_area</td>\n",
       "      <td>20975.774810</td>\n",
       "    </tr>\n",
       "    <tr>\n",
       "      <th>1</th>\n",
       "      <td>overall_qual</td>\n",
       "      <td>15522.154684</td>\n",
       "    </tr>\n",
       "    <tr>\n",
       "      <th>11</th>\n",
       "      <td>year_remod/add</td>\n",
       "      <td>11797.834978</td>\n",
       "    </tr>\n",
       "    <tr>\n",
       "      <th>0</th>\n",
       "      <td>neighborhood</td>\n",
       "      <td>9673.633827</td>\n",
       "    </tr>\n",
       "    <tr>\n",
       "      <th>6</th>\n",
       "      <td>total_bsmt_sf</td>\n",
       "      <td>9393.944347</td>\n",
       "    </tr>\n",
       "    <tr>\n",
       "      <th>21</th>\n",
       "      <td>lot_area</td>\n",
       "      <td>7864.788463</td>\n",
       "    </tr>\n",
       "    <tr>\n",
       "      <th>116</th>\n",
       "      <td>bsmt_qual total_bsmt_sf</td>\n",
       "      <td>7704.321072</td>\n",
       "    </tr>\n",
       "    <tr>\n",
       "      <th>17</th>\n",
       "      <td>bsmtfin_sf_1</td>\n",
       "      <td>7652.803427</td>\n",
       "    </tr>\n",
       "    <tr>\n",
       "      <th>96</th>\n",
       "      <td>gr_liv_area total_bsmt_sf</td>\n",
       "      <td>7244.913784</td>\n",
       "    </tr>\n",
       "    <tr>\n",
       "      <th>56</th>\n",
       "      <td>overall_qual 1st_flr_sf</td>\n",
       "      <td>6520.820542</td>\n",
       "    </tr>\n",
       "  </tbody>\n",
       "</table>\n",
       "</div>"
      ],
      "text/plain": [
       "                       feature          coef\n",
       "3                  gr_liv_area  20975.774810\n",
       "1                 overall_qual  15522.154684\n",
       "11              year_remod/add  11797.834978\n",
       "0                 neighborhood   9673.633827\n",
       "6                total_bsmt_sf   9393.944347\n",
       "21                    lot_area   7864.788463\n",
       "116    bsmt_qual total_bsmt_sf   7704.321072\n",
       "17                bsmtfin_sf_1   7652.803427\n",
       "96   gr_liv_area total_bsmt_sf   7244.913784\n",
       "56     overall_qual 1st_flr_sf   6520.820542"
      ]
     },
     "execution_count": 8,
     "metadata": {},
     "output_type": "execute_result"
    }
   ],
   "source": [
    "lm_feature_coefs = pd.DataFrame({'feature' : X_train.columns, 'coef' : lm.coef_})\n",
    "lm_feature_coefs = lm_feature_coefs.sort_values(by = 'coef', ascending = False)\n",
    "lm_feature_coefs.head(10)"
   ]
  },
  {
   "cell_type": "markdown",
   "metadata": {},
   "source": [
    "Interactive features appear to have the most negative relationship with sale price. This means one of the features that make up the interactive feature is negatively correlated with sales price in this model. "
   ]
  },
  {
   "cell_type": "code",
   "execution_count": 9,
   "metadata": {},
   "outputs": [
    {
     "data": {
      "text/html": [
       "<div>\n",
       "<style scoped>\n",
       "    .dataframe tbody tr th:only-of-type {\n",
       "        vertical-align: middle;\n",
       "    }\n",
       "\n",
       "    .dataframe tbody tr th {\n",
       "        vertical-align: top;\n",
       "    }\n",
       "\n",
       "    .dataframe thead th {\n",
       "        text-align: right;\n",
       "    }\n",
       "</style>\n",
       "<table border=\"1\" class=\"dataframe\">\n",
       "  <thead>\n",
       "    <tr style=\"text-align: right;\">\n",
       "      <th></th>\n",
       "      <th>feature</th>\n",
       "      <th>coef</th>\n",
       "    </tr>\n",
       "  </thead>\n",
       "  <tbody>\n",
       "    <tr>\n",
       "      <th>187</th>\n",
       "      <td>garage_area half_bath</td>\n",
       "      <td>-4670.987884</td>\n",
       "    </tr>\n",
       "    <tr>\n",
       "      <th>74</th>\n",
       "      <td>exter_qual kitchen_qual</td>\n",
       "      <td>-5118.835017</td>\n",
       "    </tr>\n",
       "    <tr>\n",
       "      <th>163</th>\n",
       "      <td>total_bsmt_sf fireplaces</td>\n",
       "      <td>-5497.083228</td>\n",
       "    </tr>\n",
       "    <tr>\n",
       "      <th>208</th>\n",
       "      <td>1st_flr_sf mas_vnr_area</td>\n",
       "      <td>-5697.975926</td>\n",
       "    </tr>\n",
       "    <tr>\n",
       "      <th>119</th>\n",
       "      <td>bsmt_qual 1st_flr_sf</td>\n",
       "      <td>-6067.949684</td>\n",
       "    </tr>\n",
       "    <tr>\n",
       "      <th>120</th>\n",
       "      <td>bsmt_qual year_built</td>\n",
       "      <td>-6100.273411</td>\n",
       "    </tr>\n",
       "    <tr>\n",
       "      <th>98</th>\n",
       "      <td>gr_liv_area garage_cars</td>\n",
       "      <td>-6147.698186</td>\n",
       "    </tr>\n",
       "    <tr>\n",
       "      <th>222</th>\n",
       "      <td>year_built mas_vnr_area</td>\n",
       "      <td>-7184.258403</td>\n",
       "    </tr>\n",
       "    <tr>\n",
       "      <th>104</th>\n",
       "      <td>gr_liv_area totrms_abvgrd</td>\n",
       "      <td>-7930.910394</td>\n",
       "    </tr>\n",
       "    <tr>\n",
       "      <th>99</th>\n",
       "      <td>gr_liv_area 1st_flr_sf</td>\n",
       "      <td>-12268.809155</td>\n",
       "    </tr>\n",
       "  </tbody>\n",
       "</table>\n",
       "</div>"
      ],
      "text/plain": [
       "                       feature          coef\n",
       "187      garage_area half_bath  -4670.987884\n",
       "74     exter_qual kitchen_qual  -5118.835017\n",
       "163   total_bsmt_sf fireplaces  -5497.083228\n",
       "208    1st_flr_sf mas_vnr_area  -5697.975926\n",
       "119       bsmt_qual 1st_flr_sf  -6067.949684\n",
       "120       bsmt_qual year_built  -6100.273411\n",
       "98     gr_liv_area garage_cars  -6147.698186\n",
       "222    year_built mas_vnr_area  -7184.258403\n",
       "104  gr_liv_area totrms_abvgrd  -7930.910394\n",
       "99      gr_liv_area 1st_flr_sf -12268.809155"
      ]
     },
     "execution_count": 9,
     "metadata": {},
     "output_type": "execute_result"
    }
   ],
   "source": [
    "lm_feature_coefs.tail(10)"
   ]
  },
  {
   "cell_type": "markdown",
   "metadata": {},
   "source": [
    "### Ridge"
   ]
  },
  {
   "cell_type": "code",
   "execution_count": 10,
   "metadata": {},
   "outputs": [],
   "source": [
    "ridge_comp = compare_r2(X_train, X_test, y_train, y_test, 'Ridge')"
   ]
  },
  {
   "cell_type": "code",
   "execution_count": 11,
   "metadata": {},
   "outputs": [
    {
     "data": {
      "text/html": [
       "<div>\n",
       "<style scoped>\n",
       "    .dataframe tbody tr th:only-of-type {\n",
       "        vertical-align: middle;\n",
       "    }\n",
       "\n",
       "    .dataframe tbody tr th {\n",
       "        vertical-align: top;\n",
       "    }\n",
       "\n",
       "    .dataframe thead th {\n",
       "        text-align: right;\n",
       "    }\n",
       "</style>\n",
       "<table border=\"1\" class=\"dataframe\">\n",
       "  <thead>\n",
       "    <tr style=\"text-align: right;\">\n",
       "      <th></th>\n",
       "      <th>Score</th>\n",
       "    </tr>\n",
       "  </thead>\n",
       "  <tbody>\n",
       "    <tr>\n",
       "      <th>Model</th>\n",
       "      <td>RidgeCV(alphas=array([1.00000e+00, 1.05956e+00...</td>\n",
       "    </tr>\n",
       "    <tr>\n",
       "      <th>Test</th>\n",
       "      <td>0.914675</td>\n",
       "    </tr>\n",
       "    <tr>\n",
       "      <th>Test CV</th>\n",
       "      <td>0.897936</td>\n",
       "    </tr>\n",
       "    <tr>\n",
       "      <th>Train</th>\n",
       "      <td>0.947838</td>\n",
       "    </tr>\n",
       "    <tr>\n",
       "      <th>Train CV</th>\n",
       "      <td>0.904751</td>\n",
       "    </tr>\n",
       "    <tr>\n",
       "      <th>alpha</th>\n",
       "      <td>153.437</td>\n",
       "    </tr>\n",
       "    <tr>\n",
       "      <th>coef</th>\n",
       "      <td>[7164.693699458214, 11663.574692696051, 3927.8...</td>\n",
       "    </tr>\n",
       "  </tbody>\n",
       "</table>\n",
       "</div>"
      ],
      "text/plain": [
       "                                                      Score\n",
       "Model     RidgeCV(alphas=array([1.00000e+00, 1.05956e+00...\n",
       "Test                                               0.914675\n",
       "Test CV                                            0.897936\n",
       "Train                                              0.947838\n",
       "Train CV                                           0.904751\n",
       "alpha                                               153.437\n",
       "coef      [7164.693699458214, 11663.574692696051, 3927.8..."
      ]
     },
     "execution_count": 11,
     "metadata": {},
     "output_type": "execute_result"
    }
   ],
   "source": [
    "ridge = ridge_comp.loc['Model', 'Score']\n",
    "ridge_comp"
   ]
  },
  {
   "cell_type": "code",
   "execution_count": 12,
   "metadata": {
    "scrolled": true
   },
   "outputs": [
    {
     "data": {
      "text/html": [
       "<div>\n",
       "<style scoped>\n",
       "    .dataframe tbody tr th:only-of-type {\n",
       "        vertical-align: middle;\n",
       "    }\n",
       "\n",
       "    .dataframe tbody tr th {\n",
       "        vertical-align: top;\n",
       "    }\n",
       "\n",
       "    .dataframe thead th {\n",
       "        text-align: right;\n",
       "    }\n",
       "</style>\n",
       "<table border=\"1\" class=\"dataframe\">\n",
       "  <thead>\n",
       "    <tr style=\"text-align: right;\">\n",
       "      <th></th>\n",
       "      <th>feature</th>\n",
       "      <th>coef</th>\n",
       "    </tr>\n",
       "  </thead>\n",
       "  <tbody>\n",
       "    <tr>\n",
       "      <th>3</th>\n",
       "      <td>gr_liv_area</td>\n",
       "      <td>12278.318269</td>\n",
       "    </tr>\n",
       "    <tr>\n",
       "      <th>1</th>\n",
       "      <td>overall_qual</td>\n",
       "      <td>11663.574693</td>\n",
       "    </tr>\n",
       "    <tr>\n",
       "      <th>0</th>\n",
       "      <td>neighborhood</td>\n",
       "      <td>7164.693699</td>\n",
       "    </tr>\n",
       "    <tr>\n",
       "      <th>21</th>\n",
       "      <td>lot_area</td>\n",
       "      <td>5723.416202</td>\n",
       "    </tr>\n",
       "    <tr>\n",
       "      <th>6</th>\n",
       "      <td>total_bsmt_sf</td>\n",
       "      <td>5699.757921</td>\n",
       "    </tr>\n",
       "    <tr>\n",
       "      <th>17</th>\n",
       "      <td>bsmtfin_sf_1</td>\n",
       "      <td>5697.497098</td>\n",
       "    </tr>\n",
       "    <tr>\n",
       "      <th>11</th>\n",
       "      <td>year_remod/add</td>\n",
       "      <td>5642.711125</td>\n",
       "    </tr>\n",
       "    <tr>\n",
       "      <th>16</th>\n",
       "      <td>fireplaces</td>\n",
       "      <td>4601.727282</td>\n",
       "    </tr>\n",
       "    <tr>\n",
       "      <th>23</th>\n",
       "      <td>half_bath</td>\n",
       "      <td>4212.172551</td>\n",
       "    </tr>\n",
       "    <tr>\n",
       "      <th>5</th>\n",
       "      <td>kitchen_qual</td>\n",
       "      <td>4105.454967</td>\n",
       "    </tr>\n",
       "  </tbody>\n",
       "</table>\n",
       "</div>"
      ],
      "text/plain": [
       "           feature          coef\n",
       "3      gr_liv_area  12278.318269\n",
       "1     overall_qual  11663.574693\n",
       "0     neighborhood   7164.693699\n",
       "21        lot_area   5723.416202\n",
       "6    total_bsmt_sf   5699.757921\n",
       "17    bsmtfin_sf_1   5697.497098\n",
       "11  year_remod/add   5642.711125\n",
       "16      fireplaces   4601.727282\n",
       "23       half_bath   4212.172551\n",
       "5     kitchen_qual   4105.454967"
      ]
     },
     "execution_count": 12,
     "metadata": {},
     "output_type": "execute_result"
    }
   ],
   "source": [
    "ridge_feature_coefs = pd.DataFrame({'feature' : X_train.columns, 'coef' : ridge.coef_})\n",
    "ridge_feature_coefs = ridge_feature_coefs.sort_values(by = 'coef', ascending = False)\n",
    "ridge_feature_coefs.head(10)"
   ]
  },
  {
   "cell_type": "code",
   "execution_count": 13,
   "metadata": {},
   "outputs": [
    {
     "data": {
      "text/html": [
       "<div>\n",
       "<style scoped>\n",
       "    .dataframe tbody tr th:only-of-type {\n",
       "        vertical-align: middle;\n",
       "    }\n",
       "\n",
       "    .dataframe tbody tr th {\n",
       "        vertical-align: top;\n",
       "    }\n",
       "\n",
       "    .dataframe thead th {\n",
       "        text-align: right;\n",
       "    }\n",
       "</style>\n",
       "<table border=\"1\" class=\"dataframe\">\n",
       "  <thead>\n",
       "    <tr style=\"text-align: right;\">\n",
       "      <th></th>\n",
       "      <th>feature</th>\n",
       "      <th>coef</th>\n",
       "    </tr>\n",
       "  </thead>\n",
       "  <tbody>\n",
       "    <tr>\n",
       "      <th>209</th>\n",
       "      <td>1st_flr_sf totrms_abvgrd</td>\n",
       "      <td>-1552.815326</td>\n",
       "    </tr>\n",
       "    <tr>\n",
       "      <th>232</th>\n",
       "      <td>year_built half_bath</td>\n",
       "      <td>-1568.969016</td>\n",
       "    </tr>\n",
       "    <tr>\n",
       "      <th>320</th>\n",
       "      <td>lot_area half_bath</td>\n",
       "      <td>-1627.974851</td>\n",
       "    </tr>\n",
       "    <tr>\n",
       "      <th>298</th>\n",
       "      <td>bsmtfin_sf_1 wood_deck_sf</td>\n",
       "      <td>-1670.444418</td>\n",
       "    </tr>\n",
       "    <tr>\n",
       "      <th>99</th>\n",
       "      <td>gr_liv_area 1st_flr_sf</td>\n",
       "      <td>-1938.356655</td>\n",
       "    </tr>\n",
       "    <tr>\n",
       "      <th>128</th>\n",
       "      <td>bsmt_qual open_porch_sf</td>\n",
       "      <td>-1989.191189</td>\n",
       "    </tr>\n",
       "    <tr>\n",
       "      <th>208</th>\n",
       "      <td>1st_flr_sf mas_vnr_area</td>\n",
       "      <td>-2241.581140</td>\n",
       "    </tr>\n",
       "    <tr>\n",
       "      <th>323</th>\n",
       "      <td>half_bath^2</td>\n",
       "      <td>-2301.175707</td>\n",
       "    </tr>\n",
       "    <tr>\n",
       "      <th>74</th>\n",
       "      <td>exter_qual kitchen_qual</td>\n",
       "      <td>-2481.738940</td>\n",
       "    </tr>\n",
       "    <tr>\n",
       "      <th>270</th>\n",
       "      <td>totrms_abvgrd garage_yr_blt</td>\n",
       "      <td>-2488.815088</td>\n",
       "    </tr>\n",
       "  </tbody>\n",
       "</table>\n",
       "</div>"
      ],
      "text/plain": [
       "                         feature         coef\n",
       "209     1st_flr_sf totrms_abvgrd -1552.815326\n",
       "232         year_built half_bath -1568.969016\n",
       "320           lot_area half_bath -1627.974851\n",
       "298    bsmtfin_sf_1 wood_deck_sf -1670.444418\n",
       "99        gr_liv_area 1st_flr_sf -1938.356655\n",
       "128      bsmt_qual open_porch_sf -1989.191189\n",
       "208      1st_flr_sf mas_vnr_area -2241.581140\n",
       "323                  half_bath^2 -2301.175707\n",
       "74       exter_qual kitchen_qual -2481.738940\n",
       "270  totrms_abvgrd garage_yr_blt -2488.815088"
      ]
     },
     "execution_count": 13,
     "metadata": {},
     "output_type": "execute_result"
    }
   ],
   "source": [
    "ridge_feature_coefs.tail(10)"
   ]
  },
  {
   "cell_type": "markdown",
   "metadata": {},
   "source": [
    "### Lasso"
   ]
  },
  {
   "cell_type": "code",
   "execution_count": 14,
   "metadata": {},
   "outputs": [],
   "source": [
    "lasso_comp = compare_r2(X_train, X_test, y_train, y_test, 'Lasso')"
   ]
  },
  {
   "cell_type": "code",
   "execution_count": 15,
   "metadata": {},
   "outputs": [
    {
     "data": {
      "text/html": [
       "<div>\n",
       "<style scoped>\n",
       "    .dataframe tbody tr th:only-of-type {\n",
       "        vertical-align: middle;\n",
       "    }\n",
       "\n",
       "    .dataframe tbody tr th {\n",
       "        vertical-align: top;\n",
       "    }\n",
       "\n",
       "    .dataframe thead th {\n",
       "        text-align: right;\n",
       "    }\n",
       "</style>\n",
       "<table border=\"1\" class=\"dataframe\">\n",
       "  <thead>\n",
       "    <tr style=\"text-align: right;\">\n",
       "      <th></th>\n",
       "      <th>Score</th>\n",
       "    </tr>\n",
       "  </thead>\n",
       "  <tbody>\n",
       "    <tr>\n",
       "      <th>Model</th>\n",
       "      <td>LassoCV(alphas=None, copy_X=True, cv=None, eps...</td>\n",
       "    </tr>\n",
       "    <tr>\n",
       "      <th>Test</th>\n",
       "      <td>0.920037</td>\n",
       "    </tr>\n",
       "    <tr>\n",
       "      <th>Test CV</th>\n",
       "      <td>0.913841</td>\n",
       "    </tr>\n",
       "    <tr>\n",
       "      <th>Train</th>\n",
       "      <td>0.933021</td>\n",
       "    </tr>\n",
       "    <tr>\n",
       "      <th>Train CV</th>\n",
       "      <td>0.91364</td>\n",
       "    </tr>\n",
       "    <tr>\n",
       "      <th>alpha</th>\n",
       "      <td>989.016</td>\n",
       "    </tr>\n",
       "    <tr>\n",
       "      <th>coef</th>\n",
       "      <td>[7163.404451022859, 15991.30717835233, 2478.11...</td>\n",
       "    </tr>\n",
       "  </tbody>\n",
       "</table>\n",
       "</div>"
      ],
      "text/plain": [
       "                                                      Score\n",
       "Model     LassoCV(alphas=None, copy_X=True, cv=None, eps...\n",
       "Test                                               0.920037\n",
       "Test CV                                            0.913841\n",
       "Train                                              0.933021\n",
       "Train CV                                            0.91364\n",
       "alpha                                               989.016\n",
       "coef      [7163.404451022859, 15991.30717835233, 2478.11..."
      ]
     },
     "execution_count": 15,
     "metadata": {},
     "output_type": "execute_result"
    }
   ],
   "source": [
    "lasso = lasso_comp.loc['Model', 'Score']\n",
    "lasso_comp"
   ]
  },
  {
   "cell_type": "markdown",
   "metadata": {},
   "source": [
    "### Feature Selection\n",
    "\n",
    "The features with the largest coefficients using `Lasso` are the biggest best predictors of sale price."
   ]
  },
  {
   "cell_type": "code",
   "execution_count": 16,
   "metadata": {
    "scrolled": true
   },
   "outputs": [
    {
     "data": {
      "text/html": [
       "<div>\n",
       "<style scoped>\n",
       "    .dataframe tbody tr th:only-of-type {\n",
       "        vertical-align: middle;\n",
       "    }\n",
       "\n",
       "    .dataframe tbody tr th {\n",
       "        vertical-align: top;\n",
       "    }\n",
       "\n",
       "    .dataframe thead th {\n",
       "        text-align: right;\n",
       "    }\n",
       "</style>\n",
       "<table border=\"1\" class=\"dataframe\">\n",
       "  <thead>\n",
       "    <tr style=\"text-align: right;\">\n",
       "      <th></th>\n",
       "      <th>feature</th>\n",
       "      <th>coef</th>\n",
       "    </tr>\n",
       "  </thead>\n",
       "  <tbody>\n",
       "    <tr>\n",
       "      <th>3</th>\n",
       "      <td>gr_liv_area</td>\n",
       "      <td>20850.957544</td>\n",
       "    </tr>\n",
       "    <tr>\n",
       "      <th>1</th>\n",
       "      <td>overall_qual</td>\n",
       "      <td>15991.307178</td>\n",
       "    </tr>\n",
       "    <tr>\n",
       "      <th>17</th>\n",
       "      <td>bsmtfin_sf_1</td>\n",
       "      <td>7307.885370</td>\n",
       "    </tr>\n",
       "    <tr>\n",
       "      <th>0</th>\n",
       "      <td>neighborhood</td>\n",
       "      <td>7163.404451</td>\n",
       "    </tr>\n",
       "    <tr>\n",
       "      <th>6</th>\n",
       "      <td>total_bsmt_sf</td>\n",
       "      <td>6922.192705</td>\n",
       "    </tr>\n",
       "    <tr>\n",
       "      <th>11</th>\n",
       "      <td>year_remod/add</td>\n",
       "      <td>6444.974805</td>\n",
       "    </tr>\n",
       "    <tr>\n",
       "      <th>21</th>\n",
       "      <td>lot_area</td>\n",
       "      <td>5628.517402</td>\n",
       "    </tr>\n",
       "    <tr>\n",
       "      <th>10</th>\n",
       "      <td>year_built</td>\n",
       "      <td>5189.339285</td>\n",
       "    </tr>\n",
       "    <tr>\n",
       "      <th>95</th>\n",
       "      <td>gr_liv_area kitchen_qual</td>\n",
       "      <td>4276.964196</td>\n",
       "    </tr>\n",
       "    <tr>\n",
       "      <th>5</th>\n",
       "      <td>kitchen_qual</td>\n",
       "      <td>3932.596174</td>\n",
       "    </tr>\n",
       "  </tbody>\n",
       "</table>\n",
       "</div>"
      ],
      "text/plain": [
       "                     feature          coef\n",
       "3                gr_liv_area  20850.957544\n",
       "1               overall_qual  15991.307178\n",
       "17              bsmtfin_sf_1   7307.885370\n",
       "0               neighborhood   7163.404451\n",
       "6              total_bsmt_sf   6922.192705\n",
       "11            year_remod/add   6444.974805\n",
       "21                  lot_area   5628.517402\n",
       "10                year_built   5189.339285\n",
       "95  gr_liv_area kitchen_qual   4276.964196\n",
       "5               kitchen_qual   3932.596174"
      ]
     },
     "execution_count": 16,
     "metadata": {},
     "output_type": "execute_result"
    }
   ],
   "source": [
    "lasso_feature_coefs = pd.DataFrame({'feature' : X_train.columns, 'coef' : lasso.coef_})\n",
    "lasso_feature_coefs = lasso_feature_coefs.sort_values(by = 'coef', ascending = False)\n",
    "lasso_feature_coefs.head(10)"
   ]
  },
  {
   "cell_type": "code",
   "execution_count": 17,
   "metadata": {
    "scrolled": true
   },
   "outputs": [
    {
     "data": {
      "text/html": [
       "<div>\n",
       "<style scoped>\n",
       "    .dataframe tbody tr th:only-of-type {\n",
       "        vertical-align: middle;\n",
       "    }\n",
       "\n",
       "    .dataframe tbody tr th {\n",
       "        vertical-align: top;\n",
       "    }\n",
       "\n",
       "    .dataframe thead th {\n",
       "        text-align: right;\n",
       "    }\n",
       "</style>\n",
       "<table border=\"1\" class=\"dataframe\">\n",
       "  <thead>\n",
       "    <tr style=\"text-align: right;\">\n",
       "      <th></th>\n",
       "      <th>feature</th>\n",
       "      <th>coef</th>\n",
       "    </tr>\n",
       "  </thead>\n",
       "  <tbody>\n",
       "    <tr>\n",
       "      <th>318</th>\n",
       "      <td>lot_area^2</td>\n",
       "      <td>-102.534329</td>\n",
       "    </tr>\n",
       "    <tr>\n",
       "      <th>275</th>\n",
       "      <td>totrms_abvgrd lot_frontage</td>\n",
       "      <td>-151.287245</td>\n",
       "    </tr>\n",
       "    <tr>\n",
       "      <th>294</th>\n",
       "      <td>fireplaces bsmt_full_bath</td>\n",
       "      <td>-179.045896</td>\n",
       "    </tr>\n",
       "    <tr>\n",
       "      <th>188</th>\n",
       "      <td>garage_cars^2</td>\n",
       "      <td>-201.175553</td>\n",
       "    </tr>\n",
       "    <tr>\n",
       "      <th>298</th>\n",
       "      <td>bsmtfin_sf_1 wood_deck_sf</td>\n",
       "      <td>-211.383502</td>\n",
       "    </tr>\n",
       "    <tr>\n",
       "      <th>299</th>\n",
       "      <td>bsmtfin_sf_1 lot_frontage</td>\n",
       "      <td>-496.504870</td>\n",
       "    </tr>\n",
       "    <tr>\n",
       "      <th>323</th>\n",
       "      <td>half_bath^2</td>\n",
       "      <td>-574.743599</td>\n",
       "    </tr>\n",
       "    <tr>\n",
       "      <th>225</th>\n",
       "      <td>year_built fireplaces</td>\n",
       "      <td>-599.061055</td>\n",
       "    </tr>\n",
       "    <tr>\n",
       "      <th>314</th>\n",
       "      <td>lot_frontage^2</td>\n",
       "      <td>-668.786164</td>\n",
       "    </tr>\n",
       "    <tr>\n",
       "      <th>261</th>\n",
       "      <td>mas_vnr_area fireplaces</td>\n",
       "      <td>-919.386130</td>\n",
       "    </tr>\n",
       "  </tbody>\n",
       "</table>\n",
       "</div>"
      ],
      "text/plain": [
       "                        feature        coef\n",
       "318                  lot_area^2 -102.534329\n",
       "275  totrms_abvgrd lot_frontage -151.287245\n",
       "294   fireplaces bsmt_full_bath -179.045896\n",
       "188               garage_cars^2 -201.175553\n",
       "298   bsmtfin_sf_1 wood_deck_sf -211.383502\n",
       "299   bsmtfin_sf_1 lot_frontage -496.504870\n",
       "323                 half_bath^2 -574.743599\n",
       "225       year_built fireplaces -599.061055\n",
       "314              lot_frontage^2 -668.786164\n",
       "261     mas_vnr_area fireplaces -919.386130"
      ]
     },
     "execution_count": 17,
     "metadata": {},
     "output_type": "execute_result"
    }
   ],
   "source": [
    "lasso_feature_coefs.tail(10)"
   ]
  },
  {
   "cell_type": "markdown",
   "metadata": {},
   "source": [
    "### Elastic Net"
   ]
  },
  {
   "cell_type": "markdown",
   "metadata": {},
   "source": [
    "ElasticNet took too long."
   ]
  },
  {
   "cell_type": "code",
   "execution_count": 18,
   "metadata": {},
   "outputs": [],
   "source": [
    "# enet_comp = compare_r2(X_train, X_test, y_train, y_test, 'ElasticNet')"
   ]
  },
  {
   "cell_type": "code",
   "execution_count": 19,
   "metadata": {},
   "outputs": [],
   "source": [
    "# enet = enet_comp.loc['Model', 'Score']\n",
    "# enet_comp"
   ]
  },
  {
   "cell_type": "code",
   "execution_count": 20,
   "metadata": {},
   "outputs": [],
   "source": [
    "# enet_feature_coefs = pd.DataFrame({'feature' : X_train.columns, 'coef' : enet.coef_})\n",
    "# enet_feature_coefs = enet_feature_coefs.sort_values(by = 'coef', ascending = False)\n",
    "# enet_feature_coefs.head(10)"
   ]
  },
  {
   "cell_type": "markdown",
   "metadata": {},
   "source": [
    "### Predictions"
   ]
  },
  {
   "cell_type": "code",
   "execution_count": 21,
   "metadata": {},
   "outputs": [],
   "source": [
    "# KAGGLE PREDICTION\n",
    "y_kaggle_linear_pred = lm.predict(X_kaggle)\n",
    "y_kaggle_ridge_pred = ridge.predict(X_kaggle)\n",
    "y_kaggle_lasso_pred = lasso.predict(X_kaggle)\n"
   ]
  },
  {
   "cell_type": "markdown",
   "metadata": {},
   "source": [
    "### BONUS: Pipeline"
   ]
  },
  {
   "cell_type": "code",
   "execution_count": 51,
   "metadata": {},
   "outputs": [],
   "source": [
    "steps = [\n",
    "    ('var_thresh', VarianceThreshold(0.05)),\n",
    "    ('ss', StandardScaler()),\n",
    "    ('poly', PolynomialFeatures(include_bias = False)),\n",
    "    ('kbest', SelectKBest(f_regression, k = 5)),\n",
    "    ('lasso', Lasso())\n",
    "]\n",
    "\n",
    "pipe = Pipeline(steps = steps)\n"
   ]
  },
  {
   "cell_type": "code",
   "execution_count": 52,
   "metadata": {},
   "outputs": [],
   "source": [
    "pipe = pipe.fit(X_train, y_train)"
   ]
  },
  {
   "cell_type": "code",
   "execution_count": 53,
   "metadata": {},
   "outputs": [
    {
     "data": {
      "text/plain": [
       "0.832290675627192"
      ]
     },
     "execution_count": 53,
     "metadata": {},
     "output_type": "execute_result"
    }
   ],
   "source": [
    "pipe.score(X_train, y_train)"
   ]
  },
  {
   "cell_type": "code",
   "execution_count": 54,
   "metadata": {},
   "outputs": [
    {
     "data": {
      "text/plain": [
       "0.8265861441339105"
      ]
     },
     "execution_count": 54,
     "metadata": {},
     "output_type": "execute_result"
    }
   ],
   "source": [
    "pipe.score(X_test, y_test)"
   ]
  },
  {
   "cell_type": "markdown",
   "metadata": {},
   "source": [
    "### BONUS: GridSearch"
   ]
  },
  {
   "cell_type": "code",
   "execution_count": 57,
   "metadata": {},
   "outputs": [],
   "source": [
    "params = {\n",
    "    'var_thresh__threshold' : [.05, .1, .25],\n",
    "    'kbest__k' : [9, 15, 21],\n",
    "    'lasso__alpha' : np.arange(800, 850, 10)\n",
    "}\n",
    "\n",
    "gs = GridSearchCV(\n",
    "    pipe,\n",
    "    param_grid = params\n",
    ")"
   ]
  },
  {
   "cell_type": "code",
   "execution_count": 58,
   "metadata": {},
   "outputs": [
    {
     "data": {
      "text/plain": [
       "GridSearchCV(cv=None, error_score='raise',\n",
       "       estimator=Pipeline(memory=None,\n",
       "     steps=[('var_thresh', VarianceThreshold(threshold=0.05)), ('ss', StandardScaler(copy=True, with_mean=True, with_std=True)), ('poly', PolynomialFeatures(degree=2, include_bias=False, interaction_only=False)), ('kbest', SelectKBest(k=5, score_func=<function f_regre...=False, precompute=False, random_state=None,\n",
       "   selection='cyclic', tol=0.0001, warm_start=False))]),\n",
       "       fit_params={}, iid=True, n_jobs=1,\n",
       "       param_grid={'var_thresh__threshold': [0.05, 0.1, 0.25], 'kbest__k': [9, 15, 21], 'lasso__alpha': array([850, 860, 870, 880, 890])},\n",
       "       pre_dispatch='2*n_jobs', refit=True, scoring=None, verbose=0)"
      ]
     },
     "execution_count": 58,
     "metadata": {},
     "output_type": "execute_result"
    }
   ],
   "source": [
    "gs.fit(X_train, y_train)"
   ]
  },
  {
   "cell_type": "code",
   "execution_count": 59,
   "metadata": {},
   "outputs": [
    {
     "data": {
      "text/plain": [
       "0.8920710273008724"
      ]
     },
     "execution_count": 59,
     "metadata": {},
     "output_type": "execute_result"
    }
   ],
   "source": [
    "gs.score(X_train, y_train)"
   ]
  },
  {
   "cell_type": "code",
   "execution_count": 60,
   "metadata": {},
   "outputs": [
    {
     "data": {
      "text/plain": [
       "0.8842753238310664"
      ]
     },
     "execution_count": 60,
     "metadata": {},
     "output_type": "execute_result"
    }
   ],
   "source": [
    "gs.score(X_test, y_test)"
   ]
  },
  {
   "cell_type": "markdown",
   "metadata": {},
   "source": [
    "#### Look at best parameters"
   ]
  },
  {
   "cell_type": "code",
   "execution_count": 61,
   "metadata": {},
   "outputs": [
    {
     "data": {
      "text/plain": [
       "Pipeline(memory=None,\n",
       "     steps=[('var_thresh', VarianceThreshold(threshold=0.05)), ('ss', StandardScaler(copy=True, with_mean=True, with_std=True)), ('poly', PolynomialFeatures(degree=2, include_bias=False, interaction_only=False)), ('kbest', SelectKBest(k=15, score_func=<function f_regression at 0x1a1cbc00d0>)), ('lasso', Lasso(alpha=850, copy_X=True, fit_intercept=True, max_iter=1000,\n",
       "   normalize=False, positive=False, precompute=False, random_state=None,\n",
       "   selection='cyclic', tol=0.0001, warm_start=False))])"
      ]
     },
     "execution_count": 61,
     "metadata": {},
     "output_type": "execute_result"
    }
   ],
   "source": [
    "gs.best_estimator_"
   ]
  },
  {
   "cell_type": "code",
   "execution_count": 62,
   "metadata": {},
   "outputs": [
    {
     "data": {
      "text/plain": [
       "{'kbest__k': 15, 'lasso__alpha': 850, 'var_thresh__threshold': 0.05}"
      ]
     },
     "execution_count": 62,
     "metadata": {},
     "output_type": "execute_result"
    }
   ],
   "source": [
    "gs.best_params_"
   ]
  },
  {
   "cell_type": "code",
   "execution_count": 78,
   "metadata": {},
   "outputs": [
    {
     "data": {
      "text/plain": [
       "Pipeline(memory=None,\n",
       "     steps=[('var_thresh', VarianceThreshold(threshold=0.05)), ('ss', StandardScaler(copy=True, with_mean=True, with_std=True)), ('poly', PolynomialFeatures(degree=2, include_bias=False, interaction_only=False)), ('kbest', SelectKBest(k=15, score_func=<function f_regression at 0x1a1cbc00d0>)), ('lasso', Lasso(alpha=850, copy_X=True, fit_intercept=True, max_iter=1000,\n",
       "   normalize=False, positive=False, precompute=False, random_state=None,\n",
       "   selection='cyclic', tol=0.0001, warm_start=False))])"
      ]
     },
     "execution_count": 78,
     "metadata": {},
     "output_type": "execute_result"
    }
   ],
   "source": [
    "gs.best_estimator_"
   ]
  },
  {
   "cell_type": "code",
   "execution_count": 71,
   "metadata": {},
   "outputs": [],
   "source": [
    "y_kaggle_gs_pred = gs.predict(X_kaggle)"
   ]
  },
  {
   "cell_type": "markdown",
   "metadata": {},
   "source": [
    "### Write predictions to CSV file"
   ]
  },
  {
   "cell_type": "code",
   "execution_count": 83,
   "metadata": {},
   "outputs": [],
   "source": [
    "ridge_predictions = pd.DataFrame([], columns = ['Id', 'SalePrice'])\n",
    "lasso_predictions = pd.DataFrame([], columns = ['Id', 'SalePrice'])\n",
    "\n",
    "ridge_predictions['Id'] = df_kaggle['id']\n",
    "ridge_predictions['SalePrice'] = y_kaggle_ridge_pred\n",
    "\n",
    "lasso_predictions['Id'] = df_kaggle['id']\n",
    "lasso_predictions['SalePrice'] = y_kaggle_lasso_pred\n",
    "\n"
   ]
  },
  {
   "cell_type": "code",
   "execution_count": 84,
   "metadata": {},
   "outputs": [],
   "source": [
    "ridge_predictions.to_csv('../datasets/predictions_ridge.csv', index = False)\n",
    "lasso_predictions.to_csv('../datasets/predictions_lasso.csv', index = False)"
   ]
  }
 ],
 "metadata": {
  "kernelspec": {
   "display_name": "Python [default]",
   "language": "python",
   "name": "python3"
  },
  "language_info": {
   "codemirror_mode": {
    "name": "ipython",
    "version": 3
   },
   "file_extension": ".py",
   "mimetype": "text/x-python",
   "name": "python",
   "nbconvert_exporter": "python",
   "pygments_lexer": "ipython3",
   "version": "3.6.5"
  }
 },
 "nbformat": 4,
 "nbformat_minor": 2
}
