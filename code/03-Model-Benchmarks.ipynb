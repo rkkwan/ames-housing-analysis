{
 "cells": [
  {
   "cell_type": "markdown",
   "metadata": {},
   "source": [
    "# Project 2 - Ames Housing Data and Kaggle Challenge\n",
    "Author: _Ritchie Kwan_\n",
    "\n",
    "---\n",
    "\n"
   ]
  },
  {
   "cell_type": "markdown",
   "metadata": {},
   "source": [
    "## Table of Contents\n",
    "1. [EDA and Data Cleaning](01-EDA-and-Cleaning.ipynb)\n",
    "2. [Preprocessing and Feature Engineering](02-Preprocessing-and-Feature-Engineering)\n",
    "3. [Modeling Benchmarks](#Modeling-Benchmarks)\n",
    "4. [Model Tuning](04-Model-Tuning.ipynb)  \n",
    "5. [Production Model and Insights](05-Production-Model-and-Insights.ipynb)  \n",
    " "
   ]
  },
  {
   "cell_type": "markdown",
   "metadata": {},
   "source": [
    "### Import Libraries"
   ]
  },
  {
   "cell_type": "code",
   "execution_count": 10,
   "metadata": {},
   "outputs": [],
   "source": [
    "import pandas as pd\n",
    "\n",
    "from sklearn.linear_model import LinearRegression\n",
    "from sklearn.metrics import r2_score\n",
    "from sklearn.model_selection import KFold, cross_val_score"
   ]
  },
  {
   "cell_type": "markdown",
   "metadata": {},
   "source": [
    "### Load Data"
   ]
  },
  {
   "cell_type": "code",
   "execution_count": 11,
   "metadata": {},
   "outputs": [],
   "source": [
    "df = pd.read_csv('../datasets/train_processed.csv')\n",
    "df_train = pd.read_csv('../datasets/train_split_processed.csv')\n",
    "df_test = pd.read_csv('../datasets/test_split_processed.csv')\n",
    "df_kaggle = pd.read_csv('../datasets/kaggle_processed.csv')"
   ]
  },
  {
   "cell_type": "markdown",
   "metadata": {},
   "source": [
    "### Define Predictors and Target"
   ]
  },
  {
   "cell_type": "code",
   "execution_count": 12,
   "metadata": {},
   "outputs": [],
   "source": [
    "X = df[[col for col in df.columns if col != 'saleprice']]\n",
    "y = df['saleprice']\n",
    "\n",
    "X_train = df_train[[col for col in df_train.columns if col != 'saleprice']]\n",
    "y_train = df_train['saleprice']\n",
    "\n",
    "X_test = df_test[[col for col in df_test.columns if col != 'saleprice']]\n",
    "y_test = df_test['saleprice']\n",
    "\n",
    "X_kaggle = df_kaggle[[col for col in df_test.columns if col != 'saleprice' and col != 'id']]"
   ]
  },
  {
   "cell_type": "markdown",
   "metadata": {},
   "source": [
    "## Modeling Benchmarks\n",
    "\n",
    "`LinearRegression` will be used as the benchmark predictive model."
   ]
  },
  {
   "cell_type": "markdown",
   "metadata": {},
   "source": [
    "### K-Folds"
   ]
  },
  {
   "cell_type": "code",
   "execution_count": 14,
   "metadata": {},
   "outputs": [],
   "source": [
    "kf = KFold(n_splits = 10, shuffle = True, random_state = 42)"
   ]
  },
  {
   "cell_type": "markdown",
   "metadata": {},
   "source": [
    "### Linear Model"
   ]
  },
  {
   "cell_type": "code",
   "execution_count": 15,
   "metadata": {},
   "outputs": [],
   "source": [
    "# linear_model\n",
    "\n",
    "def linear_reg(X_train, X_test, y_train, y_test):\n",
    "\n",
    "    lm = LinearRegression()\n",
    "    lm = lm.fit(X_train, y_train)\n",
    "    y_train_pred = lm.predict(X_train)\n",
    "    y_test_pred = lm.predict(X_test)\n",
    "\n",
    "    train_score = r2_score(y_train, y_train_pred)\n",
    "    test_score = r2_score(y_test, y_test_pred)\n",
    "\n",
    "    cv_train_score = cross_val_score(lm, X_train, y_train, cv = kf).mean()\n",
    "    cv_test_score = cross_val_score(lm, X_test, y_test, cv = kf).mean()\n",
    "    \n",
    "    print('Train:  \\t{}\\nTest:\\t\\t{}\\nTrainCV:\\t{}\\nTestCV:\\t\\t{}'\n",
    "          .format(train_score, test_score, cv_train_score, cv_test_score))\n",
    "    \n",
    "    return lm"
   ]
  },
  {
   "cell_type": "markdown",
   "metadata": {},
   "source": [
    "#### Linear Model Predictions"
   ]
  },
  {
   "cell_type": "code",
   "execution_count": 16,
   "metadata": {},
   "outputs": [
    {
     "name": "stdout",
     "output_type": "stream",
     "text": [
      "Train:  \t0.9531733852423574\n",
      "Test:\t\t0.8719576833399215\n",
      "TrainCV:\t0.8660803946391541\n",
      "TestCV:\t\t0.7001903671607572\n"
     ]
    }
   ],
   "source": [
    "lm = linear_reg(X_train, X_test, y_train, y_test)\n",
    "\n",
    "y_kaggle_lm_pred = lm.predict(X_kaggle)"
   ]
  },
  {
   "cell_type": "markdown",
   "metadata": {},
   "source": [
    "### Write predictions to CSV file"
   ]
  },
  {
   "cell_type": "code",
   "execution_count": 17,
   "metadata": {},
   "outputs": [],
   "source": [
    "predictions = pd.DataFrame([], columns = ['Id', 'SalePrice'])\n",
    "predictions['Id'] = df_kaggle['id']\n",
    "predictions['SalePrice'] = y_kaggle_lm_pred"
   ]
  },
  {
   "cell_type": "code",
   "execution_count": 18,
   "metadata": {},
   "outputs": [],
   "source": [
    "predictions.to_csv('../datasets/predictions_linear.csv', index = False)"
   ]
  }
 ],
 "metadata": {
  "kernelspec": {
   "display_name": "Python [default]",
   "language": "python",
   "name": "python3"
  },
  "language_info": {
   "codemirror_mode": {
    "name": "ipython",
    "version": 3
   },
   "file_extension": ".py",
   "mimetype": "text/x-python",
   "name": "python",
   "nbconvert_exporter": "python",
   "pygments_lexer": "ipython3",
   "version": "3.6.5"
  }
 },
 "nbformat": 4,
 "nbformat_minor": 2
}
